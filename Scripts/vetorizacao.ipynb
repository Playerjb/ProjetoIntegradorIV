{
 "cells": [
  {
   "cell_type": "markdown",
   "id": "dacfed36",
   "metadata": {},
   "source": [
    "Installers<br>\n",
    "pandas: !pip install pandas<br>\n",
    "K-means: !pip install -U scikit-learn<br>\n",
    "Matplotlib: !python -m pip install -U matplotlib<br>\n",
    "nltk: !pip install nltk<br>\n",
    "PySimpleGUI: !pip install pysimplegui"
   ]
  },
  {
   "cell_type": "code",
   "execution_count": 21,
   "id": "36d7bb5d",
   "metadata": {},
   "outputs": [],
   "source": [
    "from asyncore import write\n",
    "import pandas as pd\n",
    "from doctest import DocTestFailure\n",
    "import math\n",
    "import string\n",
    "from sklearn.cluster import KMeans\n",
    "from sklearn.datasets._samples_generator import make_blobs\n",
    "\n",
    "#----------- importando bibliotecas para tratar as palavras\n",
    "\n",
    "#from worldcloud import WordCloud, STOPWORDS, ImageColorGenerator\n",
    "import matplotlib.pyplot as plt\n",
    "import numpy as np\n",
    "from PIL import Image\n",
    "from nltk.tokenize import word_tokenize\n",
    "import nltk\n",
    "\n",
    "#----------- Biblioteca para interface\n",
    "import PySimpleGUI as sg"
   ]
  },
  {
   "cell_type": "code",
   "execution_count": 22,
   "id": "bcd4d8a2",
   "metadata": {},
   "outputs": [],
   "source": [
    "#----------- funções\n",
    "\n",
    "def remove_punctuations(line):\n",
    "    for character in string.punctuation:\n",
    "        line = line.replace(character, \"\")\n",
    "    return line\n",
    "\n",
    "def writeFile(dict, archiveName):\n",
    "    arquivo = open(archiveName+\".txt\",'w')\n",
    "    for word, tf in dict.items():\n",
    "        sentence = f\"{word}:{tf}\\n\"\n",
    "        arquivo.write(sentence)\n",
    "    arquivo.close()\n",
    "\n",
    "def writeCSV(df, archiveName):\n",
    "    f = open(\"..\\\\DataBase\\\\\"+archiveName+\".csv\", 'w', newline='', encoding=\"utf8\")\n",
    "    df.to_csv(\"..\\\\DataBase\\\\\"+archiveName+\".csv\", encoding=\"utf8\", sep=';')\n",
    "\n",
    "\n",
    "def countWords(wordsDoc, line): \n",
    "    wordsCopy = wordsDoc.copy() \n",
    "    words = line.split()\n",
    "    for word in words:\n",
    "        word = word.lower()\n",
    "        wordsCopy[word] += 1\n",
    "    return wordsCopy\n",
    "\n",
    "def get_posts():\n",
    "    file = open(filepath, 'r', encoding=\"utf8\")\n",
    "    lines = file.readlines()\n",
    "    return lines  "
   ]
  },
  {
   "cell_type": "code",
   "execution_count": 23,
   "id": "33ae7c55",
   "metadata": {},
   "outputs": [],
   "source": [
    "#------------- funções de ponderação/vetorização\n",
    "\n",
    "def computeTF(wordDict, doc):\n",
    "    tfDict = {}\n",
    "    corpusCount = len(doc)\n",
    "    for word, count in wordDict.items():\n",
    "        tfDict[word] = round(count/float(corpusCount), 3)\n",
    "    return(tfDict)\n",
    "\n",
    "def computeIDF(docList):\n",
    "    idfDict = {}\n",
    "    N = len(docList)\n",
    "    \n",
    "    #idfDict = dict.fromkeys(docList[1].keys, 0)\n",
    "    for word, val in docList.items():\n",
    "        idfDict[word] = round(math.log10(N / (float(val) + 1)), 3)\n",
    "        \n",
    "    return(idfDict)\n",
    "\n",
    "def computeTFIDF(tfBow, idfs):\n",
    "    tfidf = {}\n",
    "    for word, val in tfBow.items():\n",
    "        tfidf[word] = round(val*idfs[word], 3)\n",
    "    return(tfidf)"
   ]
  },
  {
   "cell_type": "code",
   "execution_count": 24,
   "id": "62426770",
   "metadata": {},
   "outputs": [],
   "source": [
    "#--------- pegando cada palavra dos posts \n",
    "\n",
    "filepath = \"..\\\\DataBase\\\\Governamentais.txt\"\n",
    "word_count = {}\n",
    "lines = []\n",
    "\n",
    "\n",
    "with open(filepath, 'r', encoding=\"utf8\") as fi:\n",
    "    for line in fi:\n",
    "        line = remove_punctuations(line)\n",
    "        lines.append(line)\n",
    "        words = line.split()\n",
    "\n",
    "        for word in words:\n",
    "            word = word.lower()\n",
    "            if word not in word_count:\n",
    "                word_count[word] = 0"
   ]
  },
  {
   "cell_type": "code",
   "execution_count": 25,
   "id": "ea7c3ab3",
   "metadata": {},
   "outputs": [],
   "source": [
    "#-----criando listas auxiliares\n",
    "listTF = {}\n",
    "listIDF = {}\n",
    "listTF_IDF = {}\n",
    "tweets = {}"
   ]
  },
  {
   "cell_type": "code",
   "execution_count": 26,
   "id": "63c3a97a",
   "metadata": {},
   "outputs": [],
   "source": [
    "#-----ponderação/vetorização\n",
    "rowCount = 0\n",
    "for line in lines:\n",
    "    rowCount += 1\n",
    "    rowName = str(rowCount)\n",
    "    totalCount = countWords(word_count, line)\n",
    "    totalTF = computeTF(totalCount, line)\n",
    "    listTF[rowName] = totalTF\n",
    "    totalIDF = computeIDF(totalCount)\n",
    "    listIDF[rowName] = totalIDF\n",
    "    totalTF_IDF = computeTFIDF(totalCount, totalIDF)\n",
    "    listTF_IDF[rowName] = totalTF_IDF\n",
    "    tweets[rowName] = line"
   ]
  },
  {
   "cell_type": "code",
   "execution_count": 27,
   "id": "a7b33fff",
   "metadata": {},
   "outputs": [],
   "source": [
    "#------------ criando os dataframes\n",
    "\n",
    "dfTF = pd.DataFrame.from_dict(listTF, orient='index', columns=word_count.keys())\n",
    "dfIDF = pd.DataFrame.from_dict(listIDF, orient='index', columns=word_count.keys())\n",
    "dfTF_IDF = pd.DataFrame.from_dict(listTF_IDF, orient='index', columns=word_count.keys())\n",
    "dfTweets = pd.DataFrame.from_dict(tweets, orient='index', columns=['TEXT'])\n"
   ]
  },
  {
   "cell_type": "code",
   "execution_count": 8,
   "id": "42e635c3",
   "metadata": {},
   "outputs": [],
   "source": [
    "#---------escrevendo no CSV\n",
    "# Só execute caso queira gerar arquivos novos com novos posts\n",
    "#writeCSV(dfTweets, \"Relação Tweets com Dataframe\")\n",
    "#writeCSV(dfTF, \"TF\")\n",
    "#writeCSV(dfIDF, \"IDF\")\n",
    "#writeCSV(dfTF_IDF, \"TF_IDF\")"
   ]
  },
  {
   "cell_type": "code",
   "execution_count": 28,
   "id": "30eff379",
   "metadata": {},
   "outputs": [],
   "source": [
    "#---------clusterização --- TF\n",
    "def clusterizar(dfTF):\n",
    "    x = np.array(dfTF)\n",
    "    kmeans_model = KMeans (n_clusters=3, random_state=0, init='random', n_init=10, max_iter=300, tol=1e-04).fit(x)\n",
    "    kmeans_model.labels_\n",
    "    kmeans_model.cluster_centers_\n",
    "\n",
    "    mydict = {i: np.where(kmeans_model.labels_ == i)[0] for i in range(kmeans_model.n_clusters)}\n",
    "    dictlist = []\n",
    "    for key, value in mydict.items():\n",
    "        temp = [key,value]\n",
    "        dictlist.append(temp)\n",
    "        \n",
    "    return dictlist"
   ]
  },
  {
   "cell_type": "code",
   "execution_count": 29,
   "id": "27c804ea",
   "metadata": {
    "scrolled": true
   },
   "outputs": [
    {
     "data": {
      "text/plain": [
       "[[0,\n",
       "  array([  7,   9,  11,  14,  19,  23,  32,  48,  50,  60,  61,  66,  68,\n",
       "          72,  73,  75,  77,  78,  79,  97,  98,  99, 108, 110, 112, 114,\n",
       "         125, 130, 139, 142, 149, 151, 152, 156, 157, 159, 164, 169, 170,\n",
       "         173, 182, 184, 186, 188, 194, 197, 199, 202, 203, 205, 208, 215,\n",
       "         217, 221, 231, 236, 237, 239, 240, 242, 245, 257, 264, 268, 272,\n",
       "         277, 282, 283, 290, 306, 344, 352, 357, 362, 372, 379, 397, 403,\n",
       "         405, 426, 434, 436, 444, 449, 451, 456, 458, 459, 461, 465, 466,\n",
       "         475, 477, 479, 480, 485, 492, 495, 496, 504, 508, 523, 534, 539,\n",
       "         542, 543, 548, 550, 557, 559, 567, 568, 569, 570, 573, 574, 575,\n",
       "         577, 580, 593, 607, 613, 625, 668, 671, 682, 704, 705, 720, 748,\n",
       "         754, 755, 756, 760, 761, 762, 765, 771, 778, 785, 792, 799, 806,\n",
       "         813, 820, 827, 834, 841], dtype=int64)],\n",
       " [1,\n",
       "  array([549, 630, 650, 653, 659, 661, 665, 674, 676, 678, 680, 681, 683,\n",
       "         684, 685, 687, 688, 706, 710, 711, 716, 717, 722, 723, 725, 733,\n",
       "         734, 735, 736, 738], dtype=int64)],\n",
       " [2,\n",
       "  array([  0,   1,   2,   3,   4,   5,   6,   8,  10,  12,  13,  15,  16,\n",
       "          17,  18,  20,  21,  22,  24,  25,  26,  27,  28,  29,  30,  31,\n",
       "          33,  34,  35,  36,  37,  38,  39,  40,  41,  42,  43,  44,  45,\n",
       "          46,  47,  49,  51,  52,  53,  54,  55,  56,  57,  58,  59,  62,\n",
       "          63,  64,  65,  67,  69,  70,  71,  74,  76,  80,  81,  82,  83,\n",
       "          84,  85,  86,  87,  88,  89,  90,  91,  92,  93,  94,  95,  96,\n",
       "         100, 101, 102, 103, 104, 105, 106, 107, 109, 111, 113, 115, 116,\n",
       "         117, 118, 119, 120, 121, 122, 123, 124, 126, 127, 128, 129, 131,\n",
       "         132, 133, 134, 135, 136, 137, 138, 140, 141, 143, 144, 145, 146,\n",
       "         147, 148, 150, 153, 154, 155, 158, 160, 161, 162, 163, 165, 166,\n",
       "         167, 168, 171, 172, 174, 175, 176, 177, 178, 179, 180, 181, 183,\n",
       "         185, 187, 189, 190, 191, 192, 193, 195, 196, 198, 200, 201, 204,\n",
       "         206, 207, 209, 210, 211, 212, 213, 214, 216, 218, 219, 220, 222,\n",
       "         223, 224, 225, 226, 227, 228, 229, 230, 232, 233, 234, 235, 238,\n",
       "         241, 243, 244, 246, 247, 248, 249, 250, 251, 252, 253, 254, 255,\n",
       "         256, 258, 259, 260, 261, 262, 263, 265, 266, 267, 269, 270, 271,\n",
       "         273, 274, 275, 276, 278, 279, 280, 281, 284, 285, 286, 287, 288,\n",
       "         289, 291, 292, 293, 294, 295, 296, 297, 298, 299, 300, 301, 302,\n",
       "         303, 304, 305, 307, 308, 309, 310, 311, 312, 313, 314, 315, 316,\n",
       "         317, 318, 319, 320, 321, 322, 323, 324, 325, 326, 327, 328, 329,\n",
       "         330, 331, 332, 333, 334, 335, 336, 337, 338, 339, 340, 341, 342,\n",
       "         343, 345, 346, 347, 348, 349, 350, 351, 353, 354, 355, 356, 358,\n",
       "         359, 360, 361, 363, 364, 365, 366, 367, 368, 369, 370, 371, 373,\n",
       "         374, 375, 376, 377, 378, 380, 381, 382, 383, 384, 385, 386, 387,\n",
       "         388, 389, 390, 391, 392, 393, 394, 395, 396, 398, 399, 400, 401,\n",
       "         402, 404, 406, 407, 408, 409, 410, 411, 412, 413, 414, 415, 416,\n",
       "         417, 418, 419, 420, 421, 422, 423, 424, 425, 427, 428, 429, 430,\n",
       "         431, 432, 433, 435, 437, 438, 439, 440, 441, 442, 443, 445, 446,\n",
       "         447, 448, 450, 452, 453, 454, 455, 457, 460, 462, 463, 464, 467,\n",
       "         468, 469, 470, 471, 472, 473, 474, 476, 478, 481, 482, 483, 484,\n",
       "         486, 487, 488, 489, 490, 491, 493, 494, 497, 498, 499, 500, 501,\n",
       "         502, 503, 505, 506, 507, 509, 510, 511, 512, 513, 514, 515, 516,\n",
       "         517, 518, 519, 520, 521, 522, 524, 525, 526, 527, 528, 529, 530,\n",
       "         531, 532, 533, 535, 536, 537, 538, 540, 541, 544, 545, 546, 547,\n",
       "         551, 552, 553, 554, 555, 556, 558, 560, 561, 562, 563, 564, 565,\n",
       "         566, 571, 572, 576, 578, 579, 581, 582, 583, 584, 585, 586, 587,\n",
       "         588, 589, 590, 591, 592, 594, 595, 596, 597, 598, 599, 600, 601,\n",
       "         602, 603, 604, 605, 606, 608, 609, 610, 611, 612, 614, 615, 616,\n",
       "         617, 618, 619, 620, 621, 622, 623, 624, 626, 627, 628, 629, 631,\n",
       "         632, 633, 634, 635, 636, 637, 638, 639, 640, 641, 642, 643, 644,\n",
       "         645, 646, 647, 648, 649, 651, 652, 654, 655, 656, 657, 658, 660,\n",
       "         662, 663, 664, 666, 667, 669, 670, 672, 673, 675, 677, 679, 686,\n",
       "         689, 690, 691, 692, 693, 694, 695, 696, 697, 698, 699, 700, 701,\n",
       "         702, 703, 707, 708, 709, 712, 713, 714, 715, 718, 719, 721, 724,\n",
       "         726, 727, 728, 729, 730, 731, 732, 737, 739, 740, 741, 742, 743,\n",
       "         744, 745, 746, 747, 749, 750, 751, 752, 753, 757, 758, 759, 763,\n",
       "         764, 766, 767, 768, 769, 770, 772, 773, 774, 775, 776, 777, 779,\n",
       "         780, 781, 782, 783, 784, 786, 787, 788, 789, 790, 791, 793, 794,\n",
       "         795, 796, 797, 798, 800, 801, 802, 803, 804, 805, 807, 808, 809,\n",
       "         810, 811, 812, 814, 815, 816, 817, 818, 819, 821, 822, 823, 824,\n",
       "         825, 826, 828, 829, 830, 831, 832, 833, 835, 836, 837, 838, 839,\n",
       "         840, 842, 843, 844, 845], dtype=int64)]]"
      ]
     },
     "metadata": {},
     "output_type": "display_data"
    }
   ],
   "source": [
    "dictlist = clusterizar(dfTF)\n",
    "display(dictlist)"
   ]
  },
  {
   "cell_type": "markdown",
   "id": "c88022f2",
   "metadata": {},
   "source": [
    "### Quantidade de posts no grupo 0"
   ]
  },
  {
   "cell_type": "code",
   "execution_count": 11,
   "id": "388d2eac",
   "metadata": {
    "scrolled": false
   },
   "outputs": [
    {
     "data": {
      "text/plain": [
       "148"
      ]
     },
     "execution_count": 11,
     "metadata": {},
     "output_type": "execute_result"
    }
   ],
   "source": [
    "len(dictlist[0][1])"
   ]
  },
  {
   "cell_type": "markdown",
   "id": "3a5518de",
   "metadata": {},
   "source": [
    "### Quantidade de posts no grupo 1"
   ]
  },
  {
   "cell_type": "code",
   "execution_count": 12,
   "id": "a14af5a4",
   "metadata": {
    "scrolled": false
   },
   "outputs": [
    {
     "data": {
      "text/plain": [
       "30"
      ]
     },
     "execution_count": 12,
     "metadata": {},
     "output_type": "execute_result"
    }
   ],
   "source": [
    "len(dictlist[1][1])"
   ]
  },
  {
   "cell_type": "markdown",
   "id": "0dc79f5d",
   "metadata": {},
   "source": [
    "### Quantidade de posts no grupo 2"
   ]
  },
  {
   "cell_type": "code",
   "execution_count": 13,
   "id": "a55da8e9",
   "metadata": {
    "scrolled": false
   },
   "outputs": [
    {
     "data": {
      "text/plain": [
       "668"
      ]
     },
     "execution_count": 13,
     "metadata": {},
     "output_type": "execute_result"
    }
   ],
   "source": [
    "len(dictlist[2][1])"
   ]
  },
  {
   "cell_type": "markdown",
   "id": "1921bac0",
   "metadata": {},
   "source": [
    "### Inserir coluna do grupo"
   ]
  },
  {
   "cell_type": "code",
   "execution_count": 30,
   "id": "036296ec",
   "metadata": {},
   "outputs": [],
   "source": [
    "#--------- Função para inserir coluna dos grupos\n",
    "def insert_column(df_aux):\n",
    "    for i in dictlist[0][1]:\n",
    "        df_aux['group'][i-1] = 0\n",
    "\n",
    "    for i in dictlist[1][1]:\n",
    "        df_aux['group'][i-1] = 1\n",
    "\n",
    "    for i in dictlist[2][1]:\n",
    "        df_aux['group'][i-1] = 2\n",
    "    \n",
    "    return df_aux"
   ]
  },
  {
   "cell_type": "code",
   "execution_count": 31,
   "id": "13d2c24d",
   "metadata": {
    "scrolled": false
   },
   "outputs": [
    {
     "name": "stderr",
     "output_type": "stream",
     "text": [
      "C:\\Users\\Jair\\AppData\\Local\\Temp\\ipykernel_8708\\1268836670.py:4: SettingWithCopyWarning: \n",
      "A value is trying to be set on a copy of a slice from a DataFrame\n",
      "\n",
      "See the caveats in the documentation: https://pandas.pydata.org/pandas-docs/stable/user_guide/indexing.html#returning-a-view-versus-a-copy\n",
      "  df_aux['group'][i-1] = 0\n",
      "C:\\Users\\Jair\\AppData\\Local\\Temp\\ipykernel_8708\\1268836670.py:7: SettingWithCopyWarning: \n",
      "A value is trying to be set on a copy of a slice from a DataFrame\n",
      "\n",
      "See the caveats in the documentation: https://pandas.pydata.org/pandas-docs/stable/user_guide/indexing.html#returning-a-view-versus-a-copy\n",
      "  df_aux['group'][i-1] = 1\n",
      "C:\\Users\\Jair\\AppData\\Local\\Temp\\ipykernel_8708\\1268836670.py:10: SettingWithCopyWarning: \n",
      "A value is trying to be set on a copy of a slice from a DataFrame\n",
      "\n",
      "See the caveats in the documentation: https://pandas.pydata.org/pandas-docs/stable/user_guide/indexing.html#returning-a-view-versus-a-copy\n",
      "  df_aux['group'][i-1] = 2\n"
     ]
    },
    {
     "data": {
      "text/html": [
       "<div>\n",
       "<style scoped>\n",
       "    .dataframe tbody tr th:only-of-type {\n",
       "        vertical-align: middle;\n",
       "    }\n",
       "\n",
       "    .dataframe tbody tr th {\n",
       "        vertical-align: top;\n",
       "    }\n",
       "\n",
       "    .dataframe thead th {\n",
       "        text-align: right;\n",
       "    }\n",
       "</style>\n",
       "<table border=\"1\" class=\"dataframe\">\n",
       "  <thead>\n",
       "    <tr style=\"text-align: right;\">\n",
       "      <th></th>\n",
       "      <th>telejornal</th>\n",
       "      <th>traz</th>\n",
       "      <th>uma</th>\n",
       "      <th>entrevista</th>\n",
       "      <th>ao</th>\n",
       "      <th>vivo</th>\n",
       "      <th>com</th>\n",
       "      <th>o</th>\n",
       "      <th>candidato</th>\n",
       "      <th>governo</th>\n",
       "      <th>...</th>\n",
       "      <th>óculos</th>\n",
       "      <th>okapanegão</th>\n",
       "      <th>grpaesp</th>\n",
       "      <th>baracho</th>\n",
       "      <th>pmesp</th>\n",
       "      <th>cmt</th>\n",
       "      <th>brpae</th>\n",
       "      <th>sjrp</th>\n",
       "      <th>httpdlvritjtsdk</th>\n",
       "      <th>group</th>\n",
       "    </tr>\n",
       "  </thead>\n",
       "  <tbody>\n",
       "    <tr>\n",
       "      <th>1</th>\n",
       "      <td>0.009</td>\n",
       "      <td>0.009</td>\n",
       "      <td>0.009</td>\n",
       "      <td>0.009</td>\n",
       "      <td>0.017</td>\n",
       "      <td>0.009</td>\n",
       "      <td>0.009</td>\n",
       "      <td>0.009</td>\n",
       "      <td>0.009</td>\n",
       "      <td>0.009</td>\n",
       "      <td>...</td>\n",
       "      <td>0.000</td>\n",
       "      <td>0.000</td>\n",
       "      <td>0.000</td>\n",
       "      <td>0.000</td>\n",
       "      <td>0.000</td>\n",
       "      <td>0.000</td>\n",
       "      <td>0.000</td>\n",
       "      <td>0.000</td>\n",
       "      <td>0.000</td>\n",
       "      <td>2</td>\n",
       "    </tr>\n",
       "    <tr>\n",
       "      <th>2</th>\n",
       "      <td>0.000</td>\n",
       "      <td>0.000</td>\n",
       "      <td>0.005</td>\n",
       "      <td>0.000</td>\n",
       "      <td>0.000</td>\n",
       "      <td>0.000</td>\n",
       "      <td>0.005</td>\n",
       "      <td>0.005</td>\n",
       "      <td>0.000</td>\n",
       "      <td>0.000</td>\n",
       "      <td>...</td>\n",
       "      <td>0.000</td>\n",
       "      <td>0.000</td>\n",
       "      <td>0.000</td>\n",
       "      <td>0.000</td>\n",
       "      <td>0.000</td>\n",
       "      <td>0.000</td>\n",
       "      <td>0.000</td>\n",
       "      <td>0.000</td>\n",
       "      <td>0.000</td>\n",
       "      <td>2</td>\n",
       "    </tr>\n",
       "    <tr>\n",
       "      <th>3</th>\n",
       "      <td>0.000</td>\n",
       "      <td>0.000</td>\n",
       "      <td>0.000</td>\n",
       "      <td>0.000</td>\n",
       "      <td>0.000</td>\n",
       "      <td>0.000</td>\n",
       "      <td>0.000</td>\n",
       "      <td>0.000</td>\n",
       "      <td>0.000</td>\n",
       "      <td>0.000</td>\n",
       "      <td>...</td>\n",
       "      <td>0.000</td>\n",
       "      <td>0.000</td>\n",
       "      <td>0.000</td>\n",
       "      <td>0.000</td>\n",
       "      <td>0.000</td>\n",
       "      <td>0.000</td>\n",
       "      <td>0.000</td>\n",
       "      <td>0.000</td>\n",
       "      <td>0.000</td>\n",
       "      <td>2</td>\n",
       "    </tr>\n",
       "    <tr>\n",
       "      <th>4</th>\n",
       "      <td>0.000</td>\n",
       "      <td>0.000</td>\n",
       "      <td>0.000</td>\n",
       "      <td>0.000</td>\n",
       "      <td>0.000</td>\n",
       "      <td>0.000</td>\n",
       "      <td>0.000</td>\n",
       "      <td>0.007</td>\n",
       "      <td>0.000</td>\n",
       "      <td>0.000</td>\n",
       "      <td>...</td>\n",
       "      <td>0.000</td>\n",
       "      <td>0.000</td>\n",
       "      <td>0.000</td>\n",
       "      <td>0.000</td>\n",
       "      <td>0.000</td>\n",
       "      <td>0.000</td>\n",
       "      <td>0.000</td>\n",
       "      <td>0.000</td>\n",
       "      <td>0.000</td>\n",
       "      <td>2</td>\n",
       "    </tr>\n",
       "    <tr>\n",
       "      <th>5</th>\n",
       "      <td>0.000</td>\n",
       "      <td>0.000</td>\n",
       "      <td>0.000</td>\n",
       "      <td>0.000</td>\n",
       "      <td>0.000</td>\n",
       "      <td>0.000</td>\n",
       "      <td>0.000</td>\n",
       "      <td>0.000</td>\n",
       "      <td>0.000</td>\n",
       "      <td>0.000</td>\n",
       "      <td>...</td>\n",
       "      <td>0.000</td>\n",
       "      <td>0.000</td>\n",
       "      <td>0.000</td>\n",
       "      <td>0.000</td>\n",
       "      <td>0.000</td>\n",
       "      <td>0.000</td>\n",
       "      <td>0.000</td>\n",
       "      <td>0.000</td>\n",
       "      <td>0.000</td>\n",
       "      <td>2</td>\n",
       "    </tr>\n",
       "    <tr>\n",
       "      <th>...</th>\n",
       "      <td>...</td>\n",
       "      <td>...</td>\n",
       "      <td>...</td>\n",
       "      <td>...</td>\n",
       "      <td>...</td>\n",
       "      <td>...</td>\n",
       "      <td>...</td>\n",
       "      <td>...</td>\n",
       "      <td>...</td>\n",
       "      <td>...</td>\n",
       "      <td>...</td>\n",
       "      <td>...</td>\n",
       "      <td>...</td>\n",
       "      <td>...</td>\n",
       "      <td>...</td>\n",
       "      <td>...</td>\n",
       "      <td>...</td>\n",
       "      <td>...</td>\n",
       "      <td>...</td>\n",
       "      <td>...</td>\n",
       "      <td>...</td>\n",
       "    </tr>\n",
       "    <tr>\n",
       "      <th>842</th>\n",
       "      <td>0.000</td>\n",
       "      <td>0.000</td>\n",
       "      <td>0.000</td>\n",
       "      <td>0.000</td>\n",
       "      <td>0.000</td>\n",
       "      <td>0.000</td>\n",
       "      <td>0.000</td>\n",
       "      <td>0.021</td>\n",
       "      <td>0.000</td>\n",
       "      <td>0.000</td>\n",
       "      <td>...</td>\n",
       "      <td>0.000</td>\n",
       "      <td>0.000</td>\n",
       "      <td>0.000</td>\n",
       "      <td>0.000</td>\n",
       "      <td>0.000</td>\n",
       "      <td>0.000</td>\n",
       "      <td>0.000</td>\n",
       "      <td>0.000</td>\n",
       "      <td>0.000</td>\n",
       "      <td>2</td>\n",
       "    </tr>\n",
       "    <tr>\n",
       "      <th>843</th>\n",
       "      <td>0.000</td>\n",
       "      <td>0.000</td>\n",
       "      <td>0.000</td>\n",
       "      <td>0.000</td>\n",
       "      <td>0.000</td>\n",
       "      <td>0.000</td>\n",
       "      <td>0.000</td>\n",
       "      <td>0.000</td>\n",
       "      <td>0.000</td>\n",
       "      <td>0.000</td>\n",
       "      <td>...</td>\n",
       "      <td>0.000</td>\n",
       "      <td>0.000</td>\n",
       "      <td>0.000</td>\n",
       "      <td>0.000</td>\n",
       "      <td>0.000</td>\n",
       "      <td>0.000</td>\n",
       "      <td>0.000</td>\n",
       "      <td>0.000</td>\n",
       "      <td>0.000</td>\n",
       "      <td>2</td>\n",
       "    </tr>\n",
       "    <tr>\n",
       "      <th>844</th>\n",
       "      <td>0.000</td>\n",
       "      <td>0.000</td>\n",
       "      <td>0.000</td>\n",
       "      <td>0.000</td>\n",
       "      <td>0.000</td>\n",
       "      <td>0.000</td>\n",
       "      <td>0.000</td>\n",
       "      <td>0.000</td>\n",
       "      <td>0.000</td>\n",
       "      <td>0.000</td>\n",
       "      <td>...</td>\n",
       "      <td>0.000</td>\n",
       "      <td>0.000</td>\n",
       "      <td>0.000</td>\n",
       "      <td>0.000</td>\n",
       "      <td>0.000</td>\n",
       "      <td>0.000</td>\n",
       "      <td>0.000</td>\n",
       "      <td>0.000</td>\n",
       "      <td>0.000</td>\n",
       "      <td>2</td>\n",
       "    </tr>\n",
       "    <tr>\n",
       "      <th>845</th>\n",
       "      <td>0.000</td>\n",
       "      <td>0.000</td>\n",
       "      <td>0.000</td>\n",
       "      <td>0.000</td>\n",
       "      <td>0.000</td>\n",
       "      <td>0.000</td>\n",
       "      <td>0.000</td>\n",
       "      <td>0.000</td>\n",
       "      <td>0.000</td>\n",
       "      <td>0.000</td>\n",
       "      <td>...</td>\n",
       "      <td>0.000</td>\n",
       "      <td>0.000</td>\n",
       "      <td>0.000</td>\n",
       "      <td>0.000</td>\n",
       "      <td>0.000</td>\n",
       "      <td>0.000</td>\n",
       "      <td>0.000</td>\n",
       "      <td>0.000</td>\n",
       "      <td>0.000</td>\n",
       "      <td>2</td>\n",
       "    </tr>\n",
       "    <tr>\n",
       "      <th>846</th>\n",
       "      <td>0.000</td>\n",
       "      <td>0.000</td>\n",
       "      <td>0.000</td>\n",
       "      <td>0.000</td>\n",
       "      <td>0.000</td>\n",
       "      <td>0.000</td>\n",
       "      <td>0.000</td>\n",
       "      <td>0.000</td>\n",
       "      <td>0.000</td>\n",
       "      <td>0.000</td>\n",
       "      <td>...</td>\n",
       "      <td>0.008</td>\n",
       "      <td>0.008</td>\n",
       "      <td>0.008</td>\n",
       "      <td>0.008</td>\n",
       "      <td>0.008</td>\n",
       "      <td>0.008</td>\n",
       "      <td>0.008</td>\n",
       "      <td>0.008</td>\n",
       "      <td>0.008</td>\n",
       "      <td>2</td>\n",
       "    </tr>\n",
       "  </tbody>\n",
       "</table>\n",
       "<p>846 rows × 4350 columns</p>\n",
       "</div>"
      ],
      "text/plain": [
       "     telejornal   traz    uma  entrevista     ao   vivo    com      o  \\\n",
       "1         0.009  0.009  0.009       0.009  0.017  0.009  0.009  0.009   \n",
       "2         0.000  0.000  0.005       0.000  0.000  0.000  0.005  0.005   \n",
       "3         0.000  0.000  0.000       0.000  0.000  0.000  0.000  0.000   \n",
       "4         0.000  0.000  0.000       0.000  0.000  0.000  0.000  0.007   \n",
       "5         0.000  0.000  0.000       0.000  0.000  0.000  0.000  0.000   \n",
       "..          ...    ...    ...         ...    ...    ...    ...    ...   \n",
       "842       0.000  0.000  0.000       0.000  0.000  0.000  0.000  0.021   \n",
       "843       0.000  0.000  0.000       0.000  0.000  0.000  0.000  0.000   \n",
       "844       0.000  0.000  0.000       0.000  0.000  0.000  0.000  0.000   \n",
       "845       0.000  0.000  0.000       0.000  0.000  0.000  0.000  0.000   \n",
       "846       0.000  0.000  0.000       0.000  0.000  0.000  0.000  0.000   \n",
       "\n",
       "     candidato  governo  ...  óculos  okapanegão  grpaesp  baracho  pmesp  \\\n",
       "1        0.009    0.009  ...   0.000       0.000    0.000    0.000  0.000   \n",
       "2        0.000    0.000  ...   0.000       0.000    0.000    0.000  0.000   \n",
       "3        0.000    0.000  ...   0.000       0.000    0.000    0.000  0.000   \n",
       "4        0.000    0.000  ...   0.000       0.000    0.000    0.000  0.000   \n",
       "5        0.000    0.000  ...   0.000       0.000    0.000    0.000  0.000   \n",
       "..         ...      ...  ...     ...         ...      ...      ...    ...   \n",
       "842      0.000    0.000  ...   0.000       0.000    0.000    0.000  0.000   \n",
       "843      0.000    0.000  ...   0.000       0.000    0.000    0.000  0.000   \n",
       "844      0.000    0.000  ...   0.000       0.000    0.000    0.000  0.000   \n",
       "845      0.000    0.000  ...   0.000       0.000    0.000    0.000  0.000   \n",
       "846      0.000    0.000  ...   0.008       0.008    0.008    0.008  0.008   \n",
       "\n",
       "       cmt  brpae   sjrp  httpdlvritjtsdk  group  \n",
       "1    0.000  0.000  0.000            0.000      2  \n",
       "2    0.000  0.000  0.000            0.000      2  \n",
       "3    0.000  0.000  0.000            0.000      2  \n",
       "4    0.000  0.000  0.000            0.000      2  \n",
       "5    0.000  0.000  0.000            0.000      2  \n",
       "..     ...    ...    ...              ...    ...  \n",
       "842  0.000  0.000  0.000            0.000      2  \n",
       "843  0.000  0.000  0.000            0.000      2  \n",
       "844  0.000  0.000  0.000            0.000      2  \n",
       "845  0.000  0.000  0.000            0.000      2  \n",
       "846  0.008  0.008  0.008            0.008      2  \n",
       "\n",
       "[846 rows x 4350 columns]"
      ]
     },
     "metadata": {},
     "output_type": "display_data"
    }
   ],
   "source": [
    "df_aux = dfTF\n",
    "df_aux['group'] = ''\n",
    "   \n",
    "df_aux = insert_column(df_aux)\n",
    "display(df_aux)"
   ]
  },
  {
   "cell_type": "markdown",
   "id": "061afaba",
   "metadata": {},
   "source": [
    "## Classificar as amostras"
   ]
  },
  {
   "cell_type": "markdown",
   "id": "2e8f848d",
   "metadata": {},
   "source": [
    "### Função para classificação"
   ]
  },
  {
   "cell_type": "code",
   "execution_count": 33,
   "id": "e0431afc",
   "metadata": {},
   "outputs": [],
   "source": [
    "# A função retorna verdadeiro caso todas as amostras sejam classificadas igualmente\n",
    "def classification(amostra,lines):    \n",
    "    sg.theme('DarkAmber')\n",
    "\n",
    "    first = True\n",
    "    equals = True\n",
    "\n",
    "    for i in amostra.index:\n",
    "        layout = [  [sg.Text(lines[int(i)-1])],\n",
    "                    [sg.Button('Positivo'), sg.Button('Negativo'), sg.Button('Neutro')] ]\n",
    "\n",
    "        window = sg.Window('Classificação de Post', layout)\n",
    "\n",
    "        event, values = window.read()\n",
    "        if(event == sg.WIN_CLOSED):\n",
    "            break\n",
    "        elif(first):\n",
    "            classification = event\n",
    "            first = False\n",
    "        elif(classification != event):\n",
    "            equals = False\n",
    "            break\n",
    "\n",
    "        window.close()\n",
    "    window.close()    \n",
    "    return equals\n"
   ]
  },
  {
   "cell_type": "markdown",
   "id": "4f9f3c4c",
   "metadata": {},
   "source": [
    "### Pegar posts como amostra de cada grupo"
   ]
  },
  {
   "cell_type": "code",
   "execution_count": 34,
   "id": "3b948cf8",
   "metadata": {},
   "outputs": [],
   "source": [
    "def get_group(grupo):\n",
    "    return df_aux[df_aux['group'] == grupo]"
   ]
  },
  {
   "cell_type": "markdown",
   "id": "33e27620",
   "metadata": {},
   "source": [
    "### Pega os posts em txt"
   ]
  },
  {
   "cell_type": "code",
   "execution_count": 35,
   "id": "b359e4e1",
   "metadata": {},
   "outputs": [],
   "source": [
    "lines = get_posts()"
   ]
  },
  {
   "cell_type": "markdown",
   "id": "e04139ab",
   "metadata": {},
   "source": [
    "### Funções para classificar os grupos"
   ]
  },
  {
   "cell_type": "code",
   "execution_count": 40,
   "id": "cf3eaf4a",
   "metadata": {},
   "outputs": [],
   "source": [
    "def classify_gp0():\n",
    "    gp0 = get_group(0)\n",
    "    result = classification(gp0.sample(5), lines)\n",
    "    if(not result):\n",
    "        print('Há posts com classifcação diferente. Será necessário efetuar a clusterização para os posts do grupo 0!')\n",
    "        dictlist = clusterizar(gp0)\n",
    "        df_aux = insert_column(df_aux)\n",
    "        classify_gp0()\n",
    "    else:\n",
    "        print('O grupo 0 está OK!')    "
   ]
  },
  {
   "cell_type": "code",
   "execution_count": null,
   "id": "700155ea",
   "metadata": {},
   "outputs": [],
   "source": [
    "def classify_gp1():\n",
    "    gp1 = get_group(1)\n",
    "    result = classification(gp1.sample(5), lines)\n",
    "    if(!result):\n",
    "        print('Há posts com classifcação diferente. Será necessário efetuar a clusterização para os posts do grupo 1!')\n",
    "        dictlist = clusterizar(gp1)\n",
    "        df_aux = insert_column(df_aux)\n",
    "        classify_gp1()\n",
    "    else:\n",
    "        print('O grupo 1 está OK!')    "
   ]
  },
  {
   "cell_type": "code",
   "execution_count": null,
   "id": "6374b8b1",
   "metadata": {},
   "outputs": [],
   "source": [
    "def classify_gp2():\n",
    "    gp2 = get_group(2)\n",
    "    result = classification(gp2.sample(5), lines)\n",
    "    if(!result):\n",
    "        print('Há posts com classifcação diferente. Será necessário efetuar a clusterização para os posts do grupo 2!')\n",
    "        dictlist = clusterizar(gp2)\n",
    "        df_aux = insert_column(df_aux)\n",
    "        classify_gp2()\n",
    "    else:\n",
    "        print('O grupo 2 está OK!')    "
   ]
  },
  {
   "cell_type": "markdown",
   "id": "babb9452",
   "metadata": {},
   "source": [
    "### Classificar Grupo 0"
   ]
  },
  {
   "cell_type": "code",
   "execution_count": 41,
   "id": "ffc91eff",
   "metadata": {},
   "outputs": [
    {
     "name": "stdout",
     "output_type": "stream",
     "text": [
      "Há posts com classifcação diferente. Será necessário efetuar a clusterização para os posts do grupo 0!\n"
     ]
    },
    {
     "ename": "UnboundLocalError",
     "evalue": "local variable 'df_aux' referenced before assignment",
     "output_type": "error",
     "traceback": [
      "\u001b[1;31m---------------------------------------------------------------------------\u001b[0m",
      "\u001b[1;31mUnboundLocalError\u001b[0m                         Traceback (most recent call last)",
      "Input \u001b[1;32mIn [41]\u001b[0m, in \u001b[0;36m<cell line: 1>\u001b[1;34m()\u001b[0m\n\u001b[1;32m----> 1\u001b[0m \u001b[43mclassify_gp0\u001b[49m\u001b[43m(\u001b[49m\u001b[43m)\u001b[49m\n",
      "Input \u001b[1;32mIn [40]\u001b[0m, in \u001b[0;36mclassify_gp0\u001b[1;34m()\u001b[0m\n\u001b[0;32m      5\u001b[0m     \u001b[38;5;28mprint\u001b[39m(\u001b[38;5;124m'\u001b[39m\u001b[38;5;124mHá posts com classifcação diferente. Será necessário efetuar a clusterização para os posts do grupo 0!\u001b[39m\u001b[38;5;124m'\u001b[39m)\n\u001b[0;32m      6\u001b[0m     dictlist \u001b[38;5;241m=\u001b[39m clusterizar(gp0)\n\u001b[1;32m----> 7\u001b[0m     df_aux \u001b[38;5;241m=\u001b[39m insert_column(\u001b[43mdf_aux\u001b[49m)\n\u001b[0;32m      8\u001b[0m     classify_gp0()\n\u001b[0;32m      9\u001b[0m \u001b[38;5;28;01melse\u001b[39;00m:\n",
      "\u001b[1;31mUnboundLocalError\u001b[0m: local variable 'df_aux' referenced before assignment"
     ]
    }
   ],
   "source": [
    "classify_gp0()"
   ]
  },
  {
   "cell_type": "markdown",
   "id": "f12c420b",
   "metadata": {},
   "source": [
    "### Classificar Grupo 1"
   ]
  },
  {
   "cell_type": "code",
   "execution_count": null,
   "id": "8685cffb",
   "metadata": {},
   "outputs": [],
   "source": [
    "classify_gp1()"
   ]
  },
  {
   "cell_type": "markdown",
   "id": "1026c047",
   "metadata": {},
   "source": [
    "### Classificar Grupo 2"
   ]
  },
  {
   "cell_type": "code",
   "execution_count": null,
   "id": "a4c17a86",
   "metadata": {},
   "outputs": [],
   "source": [
    "classify_gp2()"
   ]
  }
 ],
 "metadata": {
  "kernelspec": {
   "display_name": "Python 3 (ipykernel)",
   "language": "python",
   "name": "python3"
  },
  "language_info": {
   "codemirror_mode": {
    "name": "ipython",
    "version": 3
   },
   "file_extension": ".py",
   "mimetype": "text/x-python",
   "name": "python",
   "nbconvert_exporter": "python",
   "pygments_lexer": "ipython3",
   "version": "3.9.12"
  }
 },
 "nbformat": 4,
 "nbformat_minor": 5
}
